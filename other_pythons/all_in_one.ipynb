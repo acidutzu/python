{
 "cells": [
  {
   "cell_type": "markdown",
   "metadata": {},
   "source": [
    "``DAY 3``\n",
    "--\n",
    "```-------------------------------------------```"
   ]
  },
  {
   "cell_type": "markdown",
   "metadata": {},
   "source": [
    "```odd and even number calculator```"
   ]
  },
  {
   "cell_type": "code",
   "execution_count": 2,
   "metadata": {},
   "outputs": [
    {
     "name": "stdout",
     "output_type": "stream",
     "text": [
      "enter a number for this program to work\n"
     ]
    }
   ],
   "source": [
    "try:\n",
    " number = int(input(\"Enter a number:\\n\"))\n",
    " if number % 2 == 0:\n",
    "     print(\"This number is even\")\n",
    " else:\n",
    "     print(\"This number is odd\")\n",
    "except ValueError:\n",
    "    print(\"enter a number for this program to work\")     "
   ]
  },
  {
   "cell_type": "markdown",
   "metadata": {},
   "source": [
    "``roller coaster ticket based on hight that needs to be at least 120cm, ticket price based on age, under 18 is 7quid, and over 18 is 12quid, but if age is under 12 than is 5quid``"
   ]
  },
  {
   "cell_type": "code",
   "execution_count": 13,
   "metadata": {},
   "outputs": [
    {
     "name": "stdout",
     "output_type": "stream",
     "text": [
      "Sayonara mother fuckers, welcome to the rollercoaster ticketing from HELL\n",
      "enter a number you dumbass\n"
     ]
    }
   ],
   "source": [
    "print('Sayonara mother fuckers, welcome to the rollercoaster ticketing from HELL')\n",
    "\n",
    "try:\n",
    " height = int(input('what is your hight in cm?'))\n",
    " if height >= 120:\n",
    "     print('Yeeey...you can ride the rollarcoaster !')\n",
    "     age = int(input('what is your age?'))\n",
    "     if age <12:\n",
    "         print('pay 5 quid please')\n",
    "     elif age <=18:\n",
    "         print('pay 7 quid please')\n",
    "     else:\n",
    "         print('pay 12 quid please')    \n",
    " else:\n",
    "     print('Your doomed, grow up and come back later !')\n",
    "\n",
    "except ValueError:\n",
    "    print('enter a number you dumbass')         "
   ]
  },
  {
   "cell_type": "markdown",
   "metadata": {},
   "source": [
    "``ADD 3quid if they want a photo |||| roller coaster ticket based on hight that need to be at least 120cm, ticket price based on age, under 18 is 7quid, and over 18 is 12quid, but if age is under 12 than is 5quid``"
   ]
  },
  {
   "cell_type": "code",
   "execution_count": 85,
   "metadata": {},
   "outputs": [
    {
     "name": "stdout",
     "output_type": "stream",
     "text": [
      "Sayonara mother fuckers, welcome to the rollercoaster ticketing from HELL\n",
      "Yeeey...you can ride the rollarcoaster !\n",
      "adult ticket is 12 quid\n"
     ]
    }
   ],
   "source": [
    "print('Sayonara mother fuckers, welcome to the rollercoaster ticketing from HELL')\n",
    "\n",
    "try:\n",
    "    height = int(input('what is your hight in cm?'))\n",
    "    bill = 0\n",
    "\n",
    "    if height >= 120:\n",
    "        print('Yeeey...you can ride the rollarcoaster !')\n",
    "        age = int(input('what is your age?'))\n",
    "        if age <12:\n",
    "            bill = 5\n",
    "            print('children ticket is 5 quid')\n",
    "        elif age <=18:\n",
    "            bill = 7\n",
    "            print('youth ticket is 7 quid')\n",
    "        else:\n",
    "            bill = 12\n",
    "            print('adult ticket is 12 quid')\n",
    "\n",
    "        photo = input('do you want a photo? Y or N?')\n",
    "        if photo == \"y\" or photo == \"Y\":\n",
    "            bill += 3\n",
    "            print(f'With photo, your final bill is {bill}quid')\n",
    "    else:\n",
    "        print('Your doomed, grow up and come back later !')     \n",
    "\n",
    "except ValueError:\n",
    "    print('enter numbers, not jiberish for fuck sake')"
   ]
  },
  {
   "cell_type": "markdown",
   "metadata": {},
   "source": [
    "```same as previous code but free tickets for those between 45 years and 55 years ```\n"
   ]
  },
  {
   "cell_type": "code",
   "execution_count": 113,
   "metadata": {},
   "outputs": [
    {
     "name": "stdout",
     "output_type": "stream",
     "text": [
      "Sayonara mother fuckers, welcome to the rollercoaster ticketing from HELL\n",
      "Yeeey...you can ride the rollarcoaster !\n",
      "youth ticket is free\n"
     ]
    }
   ],
   "source": [
    "print('Sayonara mother fuckers, welcome to the rollercoaster ticketing from HELL')\n",
    "\n",
    "try:\n",
    "    height = int(input('what is your hight in cm?'))\n",
    "    bill = 0\n",
    "\n",
    "    if height >= 120:\n",
    "        print('Yeeey...you can ride the rollercoaster !')\n",
    "        age = int(input('what is your age?'))\n",
    "        if age <12:\n",
    "            bill = 5\n",
    "            print('children ticket is 5 quid')\n",
    "        elif age <=18:\n",
    "            bill = 7\n",
    "            print('youth ticket is 7 quid')\n",
    "        elif age >= 45 and age <= 55:\n",
    "            print('your ticket is free')\n",
    "\n",
    "        else:\n",
    "            bill = 12\n",
    "            print('adult ticket is 12 quid')\n",
    "\n",
    "        photo = input('do you want a photo? Y or N?')\n",
    "        if photo == \"y\" or photo == \"Y\":\n",
    "            bill += 3\n",
    "            print(f'With photo, your final bill is {bill}quid')\n",
    "    else:\n",
    "        print('Your doomed, grow up and come back later !')     \n",
    "\n",
    "except ValueError:\n",
    "    print('enter numbers, not jiberish for fuck sake')"
   ]
  },
  {
   "cell_type": "markdown",
   "metadata": {},
   "source": [
    "```BMI (Body Mass Index Calculator)```"
   ]
  },
  {
   "cell_type": "code",
   "execution_count": 30,
   "metadata": {},
   "outputs": [
    {
     "name": "stdout",
     "output_type": "stream",
     "text": [
      "20\n",
      "Your BMI is 20, you have a normal weight\n"
     ]
    }
   ],
   "source": [
    "try:\n",
    " height = float(input('please enter your height in m, like 1.83'))\n",
    " weight = float(input('please enter your weight in kg, like 72.1'))\n",
    " \n",
    " bmi = round(weight/height**2) #pfffffff\n",
    " print(bmi)\n",
    " if bmi < 18.5:\n",
    "     print(f'Your BMI is {bmi}, you are underweight')\n",
    " elif bmi < 25:\n",
    "     print(f'Your BMI is {bmi}, you have a normal weight')\n",
    " elif bmi < 30:\n",
    "     print(f'Your BMI is {bmi}, you are overweight')\n",
    " elif bmi < 35:\n",
    "     print(f'Your BMI is {bmi}, you are obese')\n",
    " else: \n",
    "     print(f'Your BMI is {bmi}, you are clinicaly obese')\n",
    "except ValueError:\n",
    "    print('please enter numbers like 1.72 for height and 60 for weight')     "
   ]
  },
  {
   "cell_type": "markdown",
   "metadata": {},
   "source": [
    "```Leap Year calculator ---an bisect sau nu | Fiecare an care e divizibil cu 4 (adică se împarte la 4 fără rest) e an bisect; dar dacă e divizibil și cu 100 nu e an bisect decât dacă e divizibil și cu 400. Maximum trei pași de verificat. De ce conteaza asta?...ca sa nu sarbatorim craciunul in Noiembrie sau in Iulie, de aici poti sa iti dai seama ce tampenie e calendarul defapt care NU SE POTRIVESTE cu ASTROLOGIA, cu MEDIUL decat daca-i ajustat artificial prin luna februarie care odata la 4 ani are 28 de zile:))| dupa acest model suntem out of sync cu 1 zi la fiecare 8000 de ani si s-a considerat ca-i bine asa cum s-a stabilit :))) pfff```"
   ]
  },
  {
   "cell_type": "code",
   "execution_count": 66,
   "metadata": {},
   "outputs": [
    {
     "name": "stdout",
     "output_type": "stream",
     "text": [
      "Year 2044 is a leap year\n"
     ]
    }
   ],
   "source": [
    "try:\n",
    " year = int(input('please enter a year to check if is leap or not'))\n",
    " \n",
    " if year%4 == 0 and year%400 == 0 or year%100 !=0:\n",
    "     print(f'Year {year} is a leap year')\n",
    " else:\n",
    "     print(f'Year {year} is not a leap year')\n",
    "except ValueError:\n",
    "    print('enter a number please')"
   ]
  },
  {
   "cell_type": "markdown",
   "metadata": {},
   "source": [
    "```small pizza is 15, medium pizza is 20, large pizza is 25, peperoni for small pizza is 2, peperoni for medium or large pizza is 3 and extra chese for any pizza is 1, calculate the bill giving the user input```"
   ]
  },
  {
   "cell_type": "code",
   "execution_count": 109,
   "metadata": {},
   "outputs": [
    {
     "name": "stdout",
     "output_type": "stream",
     "text": [
      "Welcome to the automated pizza selector you hungry animal\n",
      "your bill is 0 lions\n"
     ]
    }
   ],
   "source": [
    "print('Welcome to the automated pizza selector you hungry animal')\n",
    "\n",
    "try:\n",
    "    size = str(input('What size pizza do you want?'))\n",
    "    add_peperoni = str(input('Do you want peperony? y or n ?'))\n",
    "    extra_chese = str(input('Do you want extra cheese? y or n?'))\n",
    "\n",
    "    bill = 0\n",
    "   \n",
    "    if size == 's':\n",
    "        bill += 15\n",
    "    elif size  == 'm':\n",
    "        bill += 20\n",
    "    elif size == 'l':    \n",
    "        bill += 25\n",
    "\n",
    "\n",
    "    if add_peperoni  == 'y':\n",
    "        if size == 's':\n",
    "            bill += 2\n",
    "        else:\n",
    "            bill += 3    \n",
    "\n",
    "\n",
    "    if extra_chese == 'y':\n",
    "        bill += 1\n",
    "\n",
    "    print(f'your bill is {bill} lions')\n",
    "\n",
    "except ValueError:\n",
    "    \n",
    "    print('something went wrong, try again')    "
   ]
  },
  {
   "cell_type": "markdown",
   "metadata": {},
   "source": [
    "```fizz buzz love shit calculator```"
   ]
  },
  {
   "cell_type": "code",
   "execution_count": 131,
   "metadata": {},
   "outputs": [
    {
     "name": "stdout",
     "output_type": "stream",
     "text": [
      "your score is 45, you are alright together\n"
     ]
    }
   ],
   "source": [
    "name1 = str(input('enter first name'))\n",
    "name2 = str(input('enter second name'))\n",
    "\n",
    "combined = name1 + name2 #concatenae names\n",
    "\n",
    "lower_case = combined.lower()  #making them lowercase\n",
    "\n",
    "t = lower_case.count('t')\n",
    "r = lower_case.count('r')\n",
    "u = lower_case.count('u')\n",
    "e = lower_case.count('e')\n",
    "\n",
    "true = t+r+u+e\n",
    "\n",
    "l = lower_case.count('l')\n",
    "o = lower_case.count('o')\n",
    "v = lower_case.count('v')\n",
    "e = lower_case.count('e')\n",
    "\n",
    "love = l+o+v+e\n",
    "\n",
    "love_score = int(str(true) + str(love)) # concatenate strings and cast them into an integer\n",
    "\n",
    "if love_score < 10 or love_score > 90: #even if only one is true and will fire\n",
    "    print(f'your score is {love_score}, you go toghether like coke and menthos')\n",
    "elif love_score >=40 and love_score <= 50: #bouth must be true so for this to fire\n",
    "    print(f'your score is {love_score}, you are alright together')\n",
    "else:\n",
    "    print(f'your score is {love_score}')    \n"
   ]
  },
  {
   "cell_type": "markdown",
   "metadata": {},
   "source": [
    "```DAY4```\n",
    "--\n",
    "```--------------------------------------------```"
   ]
  },
  {
   "cell_type": "markdown",
   "metadata": {},
   "source": [
    "```random module```"
   ]
  },
  {
   "cell_type": "code",
   "execution_count": 248,
   "metadata": {},
   "outputs": [
    {
     "name": "stdout",
     "output_type": "stream",
     "text": [
      "3.1459\n",
      "21\n",
      "0.828479806522093\n",
      "0.6503979872918336\n"
     ]
    }
   ],
   "source": [
    "###printing random whole or float numbers \n",
    "import random\n",
    "import my_module\n",
    "print(my_module.pi) ## testing to see importing module workings\n",
    "\n",
    "###random whole numbers\n",
    "random_number = random.randint(1,33) #range 1-33 | is inclusive of bouth numbers\n",
    "print(random_number)\n",
    "\n",
    "\n",
    "###random float between 0 and 1\n",
    "\n",
    "random_float_range_0_1 = random.random() #range 0.0000000-0.9999999\n",
    "print(random_float_range_0_1)\n",
    "\n",
    "###random float between 0 and 1 and if *5 will multiply an therefore increase the range\n",
    "random_float_range = random.random()*5 #range * 5\n",
    "print(random_float_range)\n",
    "\n",
    "\n"
   ]
  },
  {
   "cell_type": "markdown",
   "metadata": {},
   "source": [
    "``` heads or tails using random module ```"
   ]
  },
  {
   "cell_type": "code",
   "execution_count": 26,
   "metadata": {},
   "outputs": [
    {
     "name": "stdout",
     "output_type": "stream",
     "text": [
      "HEADS\n"
     ]
    }
   ],
   "source": [
    "import random as rd\n",
    "\n",
    "coin_random = rd.randint(0,2)\n",
    "\n",
    "if coin_random == 1:\n",
    "    print('HEADS')\n",
    "elif coin_random == 2:\n",
    "    print('DUNGA')\n",
    "else:\n",
    "    print('TAILS')    \n"
   ]
  },
  {
   "cell_type": "markdown",
   "metadata": {},
   "source": [
    "``` Data structures - Lists | understanding the offset and appending items to lists``` | \n",
    "```Lists are using square brackets ex: things = [\"item1\",\"item2\",\"item3\"] and this is called a data structue```"
   ]
  },
  {
   "cell_type": "code",
   "execution_count": 34,
   "metadata": {},
   "outputs": [
    {
     "name": "stdout",
     "output_type": "stream",
     "text": [
      "['mures', 'alba', 'teleorman', 'bobohalma']\n",
      "bobohalma\n",
      "['mures', 'alba', 'teleorman', 'petrilaca']\n",
      "['mures', 'alba', 'teleorman', 'petrilaca', 'gambutzu de campie']\n",
      "['mures', 'alba', 'teleorman', 'petrilaca', 'gambutzu de campie', 'fanatze', 'zaiu', 'valea']\n"
     ]
    }
   ],
   "source": [
    "countys = [\"mures\",\"alba\",\"teleorman\",'bobohalma'] #order index is preserved mures is index 0 | [0]\n",
    "\n",
    "##teleorman is index 2 | [2], u can use [-1] or [-2] to select from Right to Left in the list\n",
    "print(countys) #it should print all items from the list\n",
    "\n",
    "print(countys[3]) #it should print bobohalma\n",
    "\n",
    "#changing items in the list\n",
    "countys[3] = 'petrilaca' #it should change item 'bobohalma ' with 'petrilaca'\n",
    "print(countys) #it should print new modified list\n",
    "\n",
    "####appending an item to the list\n",
    "countys.append('gambutzu de campie') # will append to the end of the list\n",
    "print(countys)#will print the new modified list with 'gambutzu de campie' at the end of the list\n",
    "\n",
    "#### extending the list with another list\n",
    "countys.extend(['fanatze','zaiu','valea'])\n",
    "print(countys)"
   ]
  },
  {
   "cell_type": "markdown",
   "metadata": {},
   "source": [
    "```Banker roulette - who will pay the bill?``` | using split and random"
   ]
  },
  {
   "cell_type": "code",
   "execution_count": 493,
   "metadata": {},
   "outputs": [
    {
     "name": "stdout",
     "output_type": "stream",
     "text": [
      "the names are ['lili', 'lula']\n",
      "there are: 2 names\n",
      "so the bill will be payed by: lula\n"
     ]
    }
   ],
   "source": [
    "import random as rd\n",
    "\n",
    "friends = str(input('enter the names separated by , and space ex: adrian, vasile, maria, ioana'))\n",
    "names = friends.split(\", \")#makes a nice list of the names\n",
    "print(f'the names are: {names}')# prints the names from the list\n",
    "\n",
    "\n",
    "lenght = len(names) #counts how many names in the list\n",
    "print(f'there are: {lenght} names') #prints how many names are in the list\n",
    "\n",
    "# using lenght-1 because index starts with zero,\n",
    "# and for ex if you have 4 names in the list, than the 4-th name will be at index 3\n",
    "# ex: list items from 0 to 3 means that there are 4 items\n",
    "# lenght-1 is used to therefore acces the last index in the list\n",
    "random_pick = rd.randint(0,lenght-1) # will pick a random index from the list\n",
    "\n",
    "will_pay = names[random_pick] #will assign that random picked index to the coresponding name\n",
    "\n",
    "print(f'so the bill will be payed by: {will_pay}')# will print the name who will pay the bill\n"
   ]
  },
  {
   "cell_type": "markdown",
   "metadata": {},
   "source": [
    "```Banker roulette - who will pay the bill?``` | using split and random || VERSION 2\n"
   ]
  },
  {
   "cell_type": "code",
   "execution_count": 497,
   "metadata": {},
   "outputs": [
    {
     "name": "stdout",
     "output_type": "stream",
     "text": [
      "so the bill will be payed by: sdasda\n"
     ]
    }
   ],
   "source": [
    "import random as rd\n",
    "friends = str(input('enter the names separated by , and space ex: adrian, vasile, maria, ioana'))\n",
    "names = friends.split(\", \")#makes a nice list of the names\n",
    "\n",
    "#######this lines are optional##################\n",
    "print(f'the names are: {names}')# prints the names from the list\n",
    "lenght = len(names) #counts how many names in the list\n",
    "print(f'there are: {lenght} names') #prints how many names are in the list\n",
    "##################################################\n",
    "random_pick = rd.choice(names) # will pick a random index from the list\n",
    "print(f'so the bill will be payed by: {random_pick}')\n"
   ]
  },
  {
   "cell_type": "markdown",
   "metadata": {},
   "source": [
    "```IndexErrors and working with nested lists``` | list inside of another list"
   ]
  },
  {
   "cell_type": "code",
   "execution_count": 500,
   "metadata": {},
   "outputs": [
    {
     "data": {
      "text/plain": [
       "[['Strawberryes',\n",
       "  'Nectarines',\n",
       "  'Apples',\n",
       "  'Grapes',\n",
       "  'Peaches',\n",
       "  'Cherries',\n",
       "  'Pears'],\n",
       " ['Spinach', 'Kale', 'Tomates', 'Celery', 'Potatoes']]"
      ]
     },
     "execution_count": 500,
     "metadata": {},
     "output_type": "execute_result"
    }
   ],
   "source": [
    "fruits = [\"Strawberryes\",\"Nectarines\",\"Apples\",\"Grapes\",\"Peaches\",\"Cherries\",\"Pears\"]\n",
    "vegetables = [\"Spinach\",\"Kale\",\"Tomates\",\"Celery\",\"Potatoes\"]\n",
    "\n",
    "dirty_dozen = [fruits, vegetables]\n",
    "\n",
    "dirty_dozen\n"
   ]
  },
  {
   "cell_type": "markdown",
   "metadata": {},
   "source": [
    "REVISIT THIS !!!\n",
    "--\n",
    "```interactive coding exercise``` | treasure map ###need to revisit this"
   ]
  },
  {
   "cell_type": "code",
   "execution_count": 14,
   "metadata": {},
   "outputs": [
    {
     "name": "stdout",
     "output_type": "stream",
     "text": [
      "['😁', '😁', '😁']\n",
      "['😁', '😁', '😁']\n",
      "['😁', '😁', '😁']\n",
      "----------------\n",
      "['😁', '😁', '😁']\n",
      "['😁', 'X', '😁']\n",
      "['😁', '😁', '😁']\n"
     ]
    }
   ],
   "source": [
    "\n",
    "###########need to revisit this\n",
    "row1 = [\"😁\",\"😁\",\"😁\"]\n",
    "row2 = [\"😁\",\"😁\",\"😁\"]\n",
    "row3 = [\"😁\",\"😁\",\"😁\"]\n",
    "\n",
    "map = [row1,row2,row3]\n",
    "print(f'{row1}\\n{row2}\\n{row3}')\n",
    "position = input('Where you you wanna put the treasure? enter row+col likefor ex: 22 ')#default takes a string?!\n",
    "\n",
    "horizontal = int(position[0])\n",
    "vertical = int(position[1]) \n",
    "\n",
    "#selected_row = map[vertical-1]\n",
    "#selected_row[horizontal-1] = 'X' #wtf is this\n",
    "###### or\n",
    "map[vertical-1][horizontal-1] = \"X\"\n",
    "\n",
    "\n",
    "print(\"----------------\")\n",
    "print(f'{row1}\\n{row2}\\n{row3}')"
   ]
  },
  {
   "cell_type": "markdown",
   "metadata": {},
   "source": [
    "```rock paper scissors```"
   ]
  },
  {
   "cell_type": "code",
   "execution_count": 112,
   "metadata": {},
   "outputs": [
    {
     "name": "stdout",
     "output_type": "stream",
     "text": [
      "computer choose\n",
      "    _______\n",
      "---'   ____)\n",
      "      (_____)\n",
      "      (_____)\n",
      "      (____)\n",
      "---.__(___)\n",
      "\n",
      "\n",
      "human\n",
      "    _______\n",
      "---'   ____)____\n",
      "          ______)\n",
      "          _______)\n",
      "         _______)\n",
      "---.__________)\n",
      "\n",
      "\n",
      "you win\n"
     ]
    }
   ],
   "source": [
    "######  What do you choose? Type 0 for rock, 1 for paper or 2 for scissors\n",
    "####### stupid game\n",
    "rock = '''\n",
    "    _______\n",
    "---'   ____)\n",
    "      (_____)\n",
    "      (_____)\n",
    "      (____)\n",
    "---.__(___)\n",
    "'''\n",
    "\n",
    "paper = '''\n",
    "    _______\n",
    "---'   ____)____\n",
    "          ______)\n",
    "          _______)\n",
    "         _______)\n",
    "---.__________)\n",
    "'''\n",
    "\n",
    "scissors = '''\n",
    "    _______\n",
    "---'   ____)____\n",
    "          ______)\n",
    "       __________)\n",
    "      (____)\n",
    "---.__(___)\n",
    "'''\n",
    "#write your code below this line 👇\n",
    "import random as rd\n",
    "\n",
    "question = int(input(\"What do you choose? Type 0 for rock, 1 for paper or 2 for scissors\"))\n",
    "\n",
    "\n",
    "map = [rock, paper, scissors]\n",
    "\n",
    "computer = rd.choice(map)\n",
    "human = (map[question])\n",
    "print(f'computer choose{computer}\\n')\n",
    "print (f'human{human}\\n')\n",
    "\n",
    "#rock beats scissors, paper beats rock(don-t know why), scissors beats paper, rock beats scissors..fucking shit\n",
    "if human == 0 and computer == 2:\n",
    "    print('you win')\n",
    "elif computer == 0 and human == 2:\n",
    "    print('you lose ')    \n",
    "elif computer > human:  \n",
    "    print('you lose')\n",
    "elif human > computer:\n",
    "    print('you win')    \n",
    "elif computer == human:\n",
    "    print('is a draw')\n",
    "\n",
    "\n",
    "\n"
   ]
  },
  {
   "cell_type": "markdown",
   "metadata": {},
   "source": [
    "```DAY 5``` \n",
    "--\n",
    "``------------------------------------------------------------------``\n"
   ]
  },
  {
   "cell_type": "markdown",
   "metadata": {},
   "source": [
    "```interactive coding exercise - average height``` | for loop"
   ]
  },
  {
   "cell_type": "code",
   "execution_count": 111,
   "metadata": {},
   "outputs": [
    {
     "name": "stdout",
     "output_type": "stream",
     "text": [
      "students heights are : [122, 123, 134]\n",
      "sum of heights is 379\n",
      "there are 3 students\n",
      "rounded average height is 126\n"
     ]
    }
   ],
   "source": [
    "students_heights = input('input a list of student heights like ex: 172 177 182 167').split()\n",
    "\n",
    "for n in range(0, len(students_heights)):\n",
    "    students_heights[n] = int(students_heights[n])\n",
    "\n",
    "\n",
    "print(f'students heights are : {students_heights}')# print out the lists\n",
    "\n",
    "how_many = len(students_heights)# how many items in the list\n",
    "addition = sum(students_heights)# is adding up all the items in the list\n",
    "\n",
    "\n",
    "average = round(addition / how_many)#rounding the result ex: 5.3 will be 5\n",
    "\n",
    "print(f'sum of heights is {addition}')\n",
    "print(f'there are {how_many} students') #prinsts how many items are in the list(students)\n",
    "print(f'rounded average height is {average}')\n",
    "\n",
    "\n"
   ]
  },
  {
   "cell_type": "markdown",
   "metadata": {},
   "source": [
    "```average height``` VERSION 2"
   ]
  },
  {
   "cell_type": "code",
   "execution_count": 121,
   "metadata": {},
   "outputs": [
    {
     "name": "stdout",
     "output_type": "stream",
     "text": [
      "students heights are : [5, 5, 5]\n",
      "the sum of the student hights is: 15\n",
      "number of students is: 3\n",
      "the average height is: 5\n"
     ]
    }
   ],
   "source": [
    "students_heights_ = input('input a list of student heights like ex: 172 177 182 167').split()\n",
    "\n",
    "for n in range(0, len(students_heights_)):\n",
    "    students_heights_[n] = int(students_heights_[n])\n",
    "print(f'students heights are : {students_heights_}')# print out the lists\n",
    "\n",
    "total_height = 0\n",
    "####alternative to the sum function, the adition of the items in the lists(student_heights)\n",
    "for height in students_heights_:\n",
    "    total_height += height\n",
    "print(f'the sum of the student hights is: {total_height}')\n",
    "\n",
    "number_of_students = 0\n",
    "####aleternative to len function for counting number of items(students_heights) in the list\n",
    "for student in students_heights_:\n",
    "    number_of_students += 1\n",
    "print(f'number of students is: {number_of_students}')\n",
    "\n",
    "average_ = round(total_height/number_of_students)\n",
    "print(f'the average height is: {average_}')\n",
    "\n",
    "\n",
    "\n",
    "\n"
   ]
  },
  {
   "cell_type": "markdown",
   "metadata": {},
   "source": [
    "```high score``` with for loop function"
   ]
  },
  {
   "cell_type": "code",
   "execution_count": 6,
   "metadata": {},
   "outputs": [
    {
     "name": "stdout",
     "output_type": "stream",
     "text": [
      "[78, 65, 86, 55, 91, 64, 89]\n",
      "the highest score is: 91\n"
     ]
    }
   ],
   "source": [
    "\n",
    "student_scores  = input('Input a list of student scores like ex: 78 65 86 55 91 64 89').split()\n",
    "\n",
    "for h in range(0, len(student_scores)):\n",
    "    student_scores[h] = int(student_scores[h])\n",
    "print(student_scores)\n",
    "\n",
    "##alternative to max function\n",
    "highest_score = 0\n",
    "for score in student_scores:\n",
    "    if score > highest_score:\n",
    "        highest_score = score\n",
    "print(f'the highest score is: {highest_score}')\n"
   ]
  },
  {
   "cell_type": "markdown",
   "metadata": {},
   "source": [
    "```for loops and the range() function```| for number in range(1,10): | print(number)"
   ]
  },
  {
   "cell_type": "code",
   "execution_count": 10,
   "metadata": {},
   "outputs": [
    {
     "name": "stdout",
     "output_type": "stream",
     "text": [
      "and the total of 1+2+3+...+99+100 = 5050\n"
     ]
    }
   ],
   "source": [
    "#10 is exclusive, ... range(start, stop, step)\n",
    "#for n in range(1,10):\n",
    "#    print(n)\n",
    "\n",
    "########will add numbers from 1 to 100 to eachother, 1+2+3+4+5.....+99+100 = 5050\n",
    "total = 0\n",
    "for number in range(1,101):\n",
    "    total += number\n",
    "print(f'and the total of 1+2+3+...+99+100 = {total}')\n"
   ]
  },
  {
   "cell_type": "markdown",
   "metadata": {},
   "source": [
    "```adding even numbers```"
   ]
  },
  {
   "cell_type": "code",
   "execution_count": 19,
   "metadata": {},
   "outputs": [
    {
     "name": "stdout",
     "output_type": "stream",
     "text": [
      "the sum of even numbers from 2+4+6+8+...+98+100 = 2550\n",
      "the sum of even numbers from 2+4+6+8+...+98+100 using modulo = 2550\n"
     ]
    }
   ],
   "source": [
    "\n",
    "\n",
    "even = 0\n",
    "\n",
    "for x in range(2,101,2):\n",
    "    even += x\n",
    "print(f'the sum of even numbers from 2+4+6+8+...+98+100 = {even}')\n",
    "\n",
    "#####method 2\n",
    "\n",
    "even2 = 0\n",
    "for i in range(1,101):\n",
    "    if i % 2 == 0: # this is finding even numbers using modulo\n",
    "     even2 += i\n",
    "print(f'the sum of even numbers from 2+4+6+8+...+98+100 using modulo = {even2}')\n",
    "\n",
    "\n",
    "\n"
   ]
  },
  {
   "cell_type": "markdown",
   "metadata": {},
   "source": [
    "```fizz buzz question```| it should print each number from 1 to 100, when a number is divizible by 3 will prin ```FIZZ``` and when a number is divizible by 5 will prin ```BUZZ``` and if the number is divizibile by 3 and 5 then it will print ```FIZZ BUZZ```"
   ]
  },
  {
   "cell_type": "code",
   "execution_count": 35,
   "metadata": {},
   "outputs": [
    {
     "name": "stdout",
     "output_type": "stream",
     "text": [
      "1\n",
      "2\n",
      "FIZZ\n",
      "4\n",
      "BUZZ\n",
      "FIZZ\n",
      "7\n",
      "8\n",
      "FIZZ\n",
      "BUZZ\n",
      "11\n",
      "FIZZ\n",
      "13\n",
      "14\n",
      "FIZZ BUZZ\n",
      "16\n",
      "17\n",
      "FIZZ\n",
      "19\n",
      "BUZZ\n",
      "FIZZ\n",
      "22\n",
      "23\n",
      "FIZZ\n",
      "BUZZ\n",
      "26\n",
      "FIZZ\n",
      "28\n",
      "29\n",
      "FIZZ BUZZ\n",
      "31\n",
      "32\n",
      "FIZZ\n",
      "34\n",
      "BUZZ\n",
      "FIZZ\n",
      "37\n",
      "38\n",
      "FIZZ\n",
      "BUZZ\n",
      "41\n",
      "FIZZ\n",
      "43\n",
      "44\n",
      "FIZZ BUZZ\n",
      "46\n",
      "47\n",
      "FIZZ\n",
      "49\n",
      "BUZZ\n",
      "FIZZ\n",
      "52\n",
      "53\n",
      "FIZZ\n",
      "BUZZ\n",
      "56\n",
      "FIZZ\n",
      "58\n",
      "59\n",
      "FIZZ BUZZ\n",
      "61\n",
      "62\n",
      "FIZZ\n",
      "64\n",
      "BUZZ\n",
      "FIZZ\n",
      "67\n",
      "68\n",
      "FIZZ\n",
      "BUZZ\n",
      "71\n",
      "FIZZ\n",
      "73\n",
      "74\n",
      "FIZZ BUZZ\n",
      "76\n",
      "77\n",
      "FIZZ\n",
      "79\n",
      "BUZZ\n",
      "FIZZ\n",
      "82\n",
      "83\n",
      "FIZZ\n",
      "BUZZ\n",
      "86\n",
      "FIZZ\n",
      "88\n",
      "89\n",
      "FIZZ BUZZ\n",
      "91\n",
      "92\n",
      "FIZZ\n",
      "94\n",
      "BUZZ\n",
      "FIZZ\n",
      "97\n",
      "98\n",
      "FIZZ\n",
      "BUZZ\n"
     ]
    }
   ],
   "source": [
    "\n",
    "\n",
    "for game in range(1,101):\n",
    "    if game % 3 == 0 and game % 5 == 0:\n",
    "        print('FIZZ BUZZ')\n",
    "    elif game % 3 == 0:\n",
    "        print('FIZZ')\n",
    "    elif game % 5 == 0:\n",
    "        print('BUZZ')\n",
    "    else:\n",
    "        print(game)    \n"
   ]
  },
  {
   "cell_type": "markdown",
   "metadata": {},
   "source": [
    "```password generator``` | Py Password generator"
   ]
  },
  {
   "cell_type": "code",
   "execution_count": 38,
   "metadata": {},
   "outputs": [
    {
     "name": "stdout",
     "output_type": "stream",
     "text": [
      "Welcome to the PyPassword Generator!\n",
      "*&x#*#3&2+Oe84s51Z7*d$!3!O66BorDO5%1*+oB&!1!YY376J7#8YOc8#7I2$+nVz63+!46hT+*oQ%+fE3*Z53%16yKg$*#!7%24Su3#3WiY#+*9Je$j6SZ&w&%%5Lq5ejR6+i7E5&Z3t6xS%s16hrh!2Dw!32++2!31%C#&$R8mU$+270%0C28*0&W0%99J7IAI#h+10y2w07&$uls4%!!0!%c+9#3+53s!w8%62%2&6##6%7498*I19$H!Ic&!zERs+Q3iW5Y10e5+*9%$286c*M9*9d3uqpW$+iD%*69V%!R7tWA*tL7u&f29Y68$83c!%9603$95A19q%Sw$#P9*26#206&*0%f#L*%2*5%&0&uM%*!tEq70L+hT+643u%+3zM&0J70T73Hb51Pe31*bK!yu6%&%!L5Bo$J7SE3#**OPnti8$YTc&o7M&Q*263X&SEij+19*Aa6%T$+#56QT&0JH517r9TYm1#*4#+9G*06c02DNl&95J&$4$8#A+7$t0e+$&9001$*+$08pK9P$!fzK%+6Z*HA$$#O*88y9$72R4%i+!w#R13Qw4X!np&6XBQM%i$$2353T+0MHt345#$#2#$95C7&3&L2!#$8EH+0%0Bj#&X7#DrZ%8&5+$7!51E!##*R5861!#W$!$g6Yv36!CI#%17++1#f1*+1&J#34MUK4!o$k+v1560%#RL%y52%2#ff5J0f67h$u4Y!4p23569#6*a76&U9#!n*!$!g39PA&Bo3Sl#Dof%s&707B%GJW#6##02#k2iiK26*17054B770*$%M%3$0b32q!!$&!+1j&K&Y235$1w$!*+&h%&+4&3&6#o3&!9*0$ja90Wa&9+E3%5ar8#q!m5%N94sHz3D%i*g$%%87h$##4+x"
     ]
    }
   ],
   "source": [
    "##########the other version with for loops must be done also !!!\n",
    "\n",
    "#Password Generator Project\n",
    "import random\n",
    "letters = ['a', 'b', 'c', 'd', 'e', 'f', 'g', 'h', 'i', 'j', 'k', 'l', 'm', 'n', 'o', 'p', 'q', 'r', 's', 't', 'u', 'v', 'w', 'x', 'y', 'z', 'A', 'B', 'C', 'D', 'E', 'F', 'G', 'H', 'I', 'J', 'K', 'L', 'M', 'N', 'O', 'P', 'Q', 'R', 'S', 'T', 'U', 'V', 'W', 'X', 'Y', 'Z']\n",
    "numbers = ['0', '1', '2', '3', '4', '5', '6', '7', '8', '9']\n",
    "symbols = ['!', '#', '$', '%', '&','*', '+']\n",
    "\n",
    "print(\"Welcome to the PyPassword Generator!\")\n",
    "nr_letters= int(input(\"How many letters would you like in your password?\\n\")) \n",
    "nr_symbols = int(input(f\"How many symbols would you like?\\n\"))\n",
    "nr_numbers = int(input(f\"How many numbers would you like?\\n\"))\n",
    "\n",
    "rnd_letters = random.choices(letters, k=nr_letters)\n",
    "rnd_numbers = random.choices(numbers, k=nr_numbers)\n",
    "rnd_symbols = random.choices(symbols, k=nr_symbols)\n",
    "\n",
    "map_rnd = rnd_letters+rnd_symbols+rnd_numbers\n",
    "shuffledList = random.sample(map_rnd, k=len(map_rnd))\n",
    "\n",
    "for char in shuffledList:\n",
    "   print(char, end=\"\")"
   ]
  },
  {
   "cell_type": "markdown",
   "metadata": {},
   "source": [
    "```DAY 6```\n",
    "--\n",
    "```------------------------------------------------------------------```"
   ]
  },
  {
   "cell_type": "markdown",
   "metadata": {},
   "source": [
    "```functions``` | stupid robot game"
   ]
  },
  {
   "cell_type": "markdown",
   "metadata": {},
   "source": [
    "```---------------------------------------------------------```\n",
    "```DAY 7```\n",
    "--\n",
    "```hangman``` |\n",
    "```---------------------------------------------------------```"
   ]
  },
  {
   "cell_type": "markdown",
   "metadata": {},
   "source": [
    "```prime numbers```"
   ]
  },
  {
   "cell_type": "code",
   "execution_count": 11,
   "metadata": {},
   "outputs": [
    {
     "name": "stdout",
     "output_type": "stream",
     "text": [
      "All prime values in the range are :  [2, 3, 5, 7, 11, 13, 17, 19, 23, 29, 31, 37, 41, 43, 47, 53, 59, 61, 67, 71, 73, 79, 83, 89, 97]\n",
      "there are: 25 primes\n"
     ]
    }
   ],
   "source": [
    "import sympy\n",
    "start = int(input( \" starting value : \" ))\n",
    "end = int(input( \" ending value : \" ))\n",
    "list_prime_values = list(sympy.primerange(start,end+1))\n",
    "print(\"All prime values in the range are : \" , list_prime_values)\n",
    "print(f'there are:',(len(list_prime_values)),'primes') "
   ]
  },
  {
   "cell_type": "markdown",
   "metadata": {},
   "source": [
    "```prime numbers version 2```"
   ]
  },
  {
   "cell_type": "code",
   "execution_count": 7,
   "metadata": {},
   "outputs": [
    {
     "name": "stdout",
     "output_type": "stream",
     "text": [
      "8\n"
     ]
    }
   ],
   "source": [
    "def isPrime(n):\n",
    "    for i in range(2,n//2+1):\n",
    "        if (not(n%i)):\n",
    "            return 0\n",
    "    return 1\n",
    "numPrimes = 0\n",
    "\n",
    "for i in range(2,20): \n",
    "    numPrimes += isPrime(i)\n",
    "\n",
    "print(numPrimes) # it will print how many primes are in the range\n"
   ]
  }
 ],
 "metadata": {
  "interpreter": {
   "hash": "7e1998ff7f8aa20ada591c520b972326324e5ea05489af9e422744c7c09f6dad"
  },
  "kernelspec": {
   "display_name": "Python 3.10.1 64-bit",
   "language": "python",
   "name": "python3"
  },
  "language_info": {
   "codemirror_mode": {
    "name": "ipython",
    "version": 3
   },
   "file_extension": ".py",
   "mimetype": "text/x-python",
   "name": "python",
   "nbconvert_exporter": "python",
   "pygments_lexer": "ipython3",
   "version": "3.9.2"
  },
  "orig_nbformat": 4
 },
 "nbformat": 4,
 "nbformat_minor": 2
}
