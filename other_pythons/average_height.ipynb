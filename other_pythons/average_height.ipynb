{
 "cells": [
  {
   "cell_type": "markdown",
   "metadata": {},
   "source": [
    "```interactive coding exercise - average height``` | for loop"
   ]
  },
  {
   "cell_type": "code",
   "execution_count": null,
   "metadata": {},
   "outputs": [],
   "source": [
    "students_heights = input('input a list of student heights like ex: 172 177 182 167').split()\n",
    "\n",
    "for n in range(0, len(students_heights)):\n",
    "    students_heights[n] = int(students_heights[n])\n",
    "\n",
    "\n",
    "print(f'students heights are : {students_heights}')# print out the lists\n",
    "\n",
    "how_many = len(students_heights)# how many items in the list\n",
    "addition = sum(students_heights)# is adding up all the items in the list\n",
    "\n",
    "\n",
    "average = round(addition / how_many)#rounding the result ex: 5.3 will be 5\n",
    "\n",
    "print(f'sum of heights is {addition}')\n",
    "print(f'there are {how_many} students') #prinsts how many items are in the list(students)\n",
    "print(f'rounded average height is {average}')"
   ]
  }
 ],
 "metadata": {
  "language_info": {
   "name": "python"
  },
  "orig_nbformat": 4
 },
 "nbformat": 4,
 "nbformat_minor": 2
}
