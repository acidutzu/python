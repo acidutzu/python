{
 "cells": [
  {
   "cell_type": "markdown",
   "metadata": {},
   "source": [
    "```Banker roulette - who will pay the bill?``` | using split and random"
   ]
  },
  {
   "cell_type": "code",
   "execution_count": null,
   "metadata": {},
   "outputs": [],
   "source": [
    "import random as rd\n",
    "\n",
    "friends = str(input('enter the names separated by , and space ex: adrian, vasile, maria, ioana'))\n",
    "names = friends.split(\", \")#makes a nice list of the names\n",
    "print(f'the names are: {names}')# prints the names from the list\n",
    "\n",
    "\n",
    "lenght = len(names) #counts how many names in the list\n",
    "print(f'there are: {lenght} names') #prints how many names are in the list\n",
    "\n",
    "# using lenght-1 because index starts with zero,\n",
    "# and for ex if you have 4 names in the list, than the 4-th name will be at index 3\n",
    "# ex: list items from 0 to 3 means that there are 4 items\n",
    "# lenght-1 is used to therefore acces the last index in the list\n",
    "random_pick = rd.randint(0,lenght-1) # will pick a random index from the list\n",
    "\n",
    "will_pay = names[random_pick] #will assign that random picked index to the coresponding name\n",
    "\n",
    "print(f'so the bill will be payed by: {will_pay}')# will print the name who will pay the bill"
   ]
  }
 ],
 "metadata": {
  "language_info": {
   "name": "python"
  },
  "orig_nbformat": 4
 },
 "nbformat": 4,
 "nbformat_minor": 2
}
