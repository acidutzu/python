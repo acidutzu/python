{
 "cells": [
  {
   "cell_type": "markdown",
   "metadata": {},
   "source": [
    "```Banker roulette - who will pay the bill?``` | using split and random || VERSION 2\n"
   ]
  },
  {
   "cell_type": "code",
   "execution_count": null,
   "metadata": {},
   "outputs": [],
   "source": [
    "import random as rd\n",
    "friends = str(input('enter the names separated by , and space ex: adrian, vasile, maria, ioana'))\n",
    "names = friends.split(\", \")#makes a nice list of the names\n",
    "\n",
    "#######this lines are optional##################\n",
    "print(f'the names are: {names}')# prints the names from the list\n",
    "lenght = len(names) #counts how many names in the list\n",
    "print(f'there are: {lenght} names') #prints how many names are in the list\n",
    "##################################################\n",
    "random_pick = rd.choice(names) # will pick a random index from the list\n",
    "print(f'so the bill will be payed by: {random_pick}')"
   ]
  }
 ],
 "metadata": {
  "language_info": {
   "name": "python"
  },
  "orig_nbformat": 4
 },
 "nbformat": 4,
 "nbformat_minor": 2
}
