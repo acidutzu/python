{
 "cells": [
  {
   "cell_type": "markdown",
   "metadata": {},
   "source": [
    "``` Data structures - Lists | understanding the offset and appending items to lists``` | \n",
    "```Lists are using square brackets ex: things = [\"item1\",\"item2\",\"item3\"] and this is called a data structue```"
   ]
  },
  {
   "cell_type": "code",
   "execution_count": null,
   "metadata": {},
   "outputs": [],
   "source": [
    "countys = [\"mures\",\"alba\",\"teleorman\",'bobohalma'] #order index is preserved mures is index 0 | [0]\n",
    "\n",
    "##teleorman is index 2 | [2], u can use [-1] or [-2] to select from Right to Left in the list\n",
    "print(countys) #it should print all items from the list\n",
    "\n",
    "print(countys[3]) #it should print bobohalma\n",
    "\n",
    "#changing items in the list\n",
    "countys[3] = 'petrilaca' #it should change item 'bobohalma ' with 'petrilaca'\n",
    "print(countys) #it should print new modified list\n",
    "\n",
    "####appending an item to the list\n",
    "countys.append('gambutzu de campie') # will append to the end of the list\n",
    "print(countys)#will print the new modified list with 'gambutzu de campie' at the end of the list\n",
    "\n",
    "#### extending the list with another list\n",
    "countys.extend(['fanatze','zaiu','valea'])\n",
    "print(countys)"
   ]
  }
 ],
 "metadata": {
  "language_info": {
   "name": "python"
  },
  "orig_nbformat": 4
 },
 "nbformat": 4,
 "nbformat_minor": 2
}
