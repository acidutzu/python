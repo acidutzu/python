{
 "cells": [
  {
   "cell_type": "markdown",
   "metadata": {},
   "source": [
    "``ADD 3quid if they want a photo |||| roller coaster ticket based on hight that need to be at least 120cm, ticket price based on age, under 18 is 7quid, and over 18 is 12quid, but if age is under 12 than is 5quid``"
   ]
  },
  {
   "cell_type": "code",
   "execution_count": null,
   "metadata": {},
   "outputs": [],
   "source": [
    "print('Sayonara mother fuckers, welcome to the rollercoaster ticketing from HELL')\n",
    "\n",
    "try:\n",
    "    height = int(input('what is your hight in cm?'))\n",
    "    bill = 0\n",
    "\n",
    "    if height >= 120:\n",
    "        print('Yeeey...you can ride the rollarcoaster !')\n",
    "        age = int(input('what is your age?'))\n",
    "        if age <12:\n",
    "            bill = 5\n",
    "            print('children ticket is 5 quid')\n",
    "        elif age <=18:\n",
    "            bill = 7\n",
    "            print('youth ticket is 7 quid')\n",
    "        else:\n",
    "            bill = 12\n",
    "            print('adult ticket is 12 quid')\n",
    "\n",
    "        photo = input('do you want a photo? Y or N?')\n",
    "        if photo == \"y\" or photo == \"Y\":\n",
    "            bill += 3\n",
    "            print(f'With photo, your final bill is {bill}quid')\n",
    "    else:\n",
    "        print('Your doomed, grow up and come back later !')     \n",
    "\n",
    "except ValueError:\n",
    "    print('enter numbers, not jiberish for fuck sake')"
   ]
  }
 ],
 "metadata": {
  "language_info": {
   "name": "python"
  },
  "orig_nbformat": 4
 },
 "nbformat": 4,
 "nbformat_minor": 2
}
